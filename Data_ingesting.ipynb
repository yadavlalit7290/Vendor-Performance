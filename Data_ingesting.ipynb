{
 "cells": [
  {
   "cell_type": "code",
   "execution_count": 1,
   "id": "6f70979a",
   "metadata": {},
   "outputs": [],
   "source": [
    "import pandas as pd\n",
    "import numpy as np\n",
    "import os\n",
    "from sqlalchemy import create_engine\n",
    "import logging\n",
    "from sqlalchemy import text\n",
    "import time\n",
    "from  ingesting import Database\n",
    "from sqlalchemy import create_engine, text\n",
    "import urllib"
   ]
  },
  {
   "cell_type": "markdown",
   "id": "938291ba",
   "metadata": {},
   "source": [
    "### Connecting to database 'master'"
   ]
  },
  {
   "cell_type": "code",
   "execution_count": 4,
   "id": "2ebabde1",
   "metadata": {},
   "outputs": [
    {
     "name": "stdout",
     "output_type": "stream",
     "text": [
      "✅ Connected to database: master\n"
     ]
    }
   ],
   "source": [
    "db = Database()"
   ]
  },
  {
   "cell_type": "markdown",
   "id": "47509137",
   "metadata": {},
   "source": [
    "### Creating the Database 'inventory'"
   ]
  },
  {
   "cell_type": "code",
   "execution_count": 5,
   "id": "5a3bfa17",
   "metadata": {},
   "outputs": [
    {
     "name": "stdout",
     "output_type": "stream",
     "text": [
      "Current Database is : master\n",
      "------------------------------\n",
      "✅ Changes made successfully\n",
      "🔒 Connection closed.\n"
     ]
    }
   ],
   "source": [
    "# Define the SQL command to drop and create the database\n",
    "# Creating database inventory\n",
    "db.SQL_script_execution(sql_script=\"\"\"IF EXISTS (SELECT name FROM sys.databases WHERE name = 'inventory')\n",
    "                                        BEGIN\n",
    "                                            DROP DATABASE inventory\n",
    "                                        END\n",
    "                                        CREATE DATABASE inventory\"\"\")\n",
    "\n"
   ]
  },
  {
   "cell_type": "markdown",
   "id": "428b5724",
   "metadata": {},
   "source": [
    "### Connecting to database 'inventory'"
   ]
  },
  {
   "cell_type": "code",
   "execution_count": 2,
   "id": "dd8ea816",
   "metadata": {},
   "outputs": [
    {
     "name": "stdout",
     "output_type": "stream",
     "text": [
      "✅ Connected to database: inventory\n"
     ]
    }
   ],
   "source": [
    "# Now inventory database created, So connecting to inventory database\n",
    "db = Database(database_name='inventory')"
   ]
  },
  {
   "cell_type": "markdown",
   "id": "c3d0b957",
   "metadata": {},
   "source": [
    "### Loading the dataset in Inventory database"
   ]
  },
  {
   "cell_type": "code",
   "execution_count": 7,
   "id": "dd2cc1e3",
   "metadata": {},
   "outputs": [
    {
     "name": "stdout",
     "output_type": "stream",
     "text": [
      "begin_inventory.csv is ingesting now as \"begin_inventory\" as table\n",
      "Time taken in ingesting \"begin_inventory\" is 0.10763784646987914 minutes\n",
      "\"begin_inventory\" is now ingested in \"inventory\" database\n",
      "🔒 Connection closed.\n",
      "begin_inventory.csv is loaded\n",
      "**************************************************\n",
      "\n",
      "end_inventory.csv is ingesting now as \"end_inventory\" as table\n",
      "Time taken in ingesting \"end_inventory\" is 0.10144982735315959 minutes\n",
      "\"end_inventory\" is now ingested in \"inventory\" database\n",
      "🔒 Connection closed.\n",
      "end_inventory.csv is loaded\n",
      "**************************************************\n",
      "\n",
      "purchases.csv is ingesting now as \"purchases\" as table\n",
      "Time taken in ingesting \"purchases\" is 2.4638422250747682 minutes\n",
      "\"purchases\" is now ingested in \"inventory\" database\n",
      "🔒 Connection closed.\n",
      "purchases.csv is loaded\n",
      "**************************************************\n",
      "\n",
      "purchase_prices.csv is ingesting now as \"purchase_prices\" as table\n",
      "Time taken in ingesting \"purchase_prices\" is 0.009129989147186279 minutes\n",
      "\"purchase_prices\" is now ingested in \"inventory\" database\n",
      "🔒 Connection closed.\n",
      "purchase_prices.csv is loaded\n",
      "**************************************************\n",
      "\n",
      "sales.csv is ingesting now as \"sales\" as table\n",
      "Time taken in ingesting \"sales\" is 21.456680631637575 minutes\n",
      "\"sales\" is now ingested in \"inventory\" database\n",
      "🔒 Connection closed.\n",
      "sales.csv is loaded\n",
      "**************************************************\n",
      "\n",
      "vendor_invoice.csv is ingesting now as \"vendor_invoice\" as table\n",
      "Time taken in ingesting \"vendor_invoice\" is 0.04820020198822021 minutes\n",
      "\"vendor_invoice\" is now ingested in \"inventory\" database\n",
      "🔒 Connection closed.\n",
      "vendor_invoice.csv is loaded\n",
      "**************************************************\n",
      "\n",
      "Time taken in full loading the dataset is 24.54431567589442 mins.\n",
      "Successfully dataset loaded\n"
     ]
    }
   ],
   "source": [
    "start = time.time() # Starting the time\n",
    "\n",
    "for file in os.listdir('dataset'):\n",
    "    if '.csv' in file:\n",
    "        df = pd.read_csv(f'dataset//{file}')\n",
    "        print(f'{file} is ingesting now as \"{file[:-4]}\" as table')\n",
    "        db.ingesting_data(df=df, table_name=file[:-4],if_exists='replace') #Loading the files into database\n",
    "        print(f'{file} is loaded')\n",
    "        print(50*'*')\n",
    "        print()\n",
    "\n",
    "end = time.time()\n",
    "print(f'Time taken in full loading the dataset is {(end-start)/60} mins.')\n",
    "print('Successfully dataset loaded')"
   ]
  },
  {
   "cell_type": "code",
   "execution_count": null,
   "id": "56c5e0e3",
   "metadata": {},
   "outputs": [],
   "source": []
  }
 ],
 "metadata": {
  "kernelspec": {
   "display_name": "Python 3",
   "language": "python",
   "name": "python3"
  },
  "language_info": {
   "codemirror_mode": {
    "name": "ipython",
    "version": 3
   },
   "file_extension": ".py",
   "mimetype": "text/x-python",
   "name": "python",
   "nbconvert_exporter": "python",
   "pygments_lexer": "ipython3",
   "version": "3.13.0"
  }
 },
 "nbformat": 4,
 "nbformat_minor": 5
}
